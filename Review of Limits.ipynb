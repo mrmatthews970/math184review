{
 "cells": [
  {
   "cell_type": "markdown",
   "metadata": {},
   "source": [
    "## Section 1: What is a Limit?\n",
    "\n",
    "A limit is defined as the functional value $L$ that $f(x)$ takes as $x$ approaches $a$, that is,\n",
    "\n",
    "$$\\lim_{x\\to a} f(x) = L$$\n",
    "\n",
    "We can also take limits from the left and right side. For left side limits, we start from the left side (obviously), and approach the point in question ($a$) along the x-axis until we get ever so close to it without actually being at $x=a$. Basically, we get as close as we can to $x=a$ from the left side of the graph. The same thing applies for right side limits, but, well, you know, from the right side.\n",
    "\n",
    "If the left and right side limits match up, then the limit at $x=a$ exists. If not, then the limit does not exist (we say that the limit is DNE).\n",
    "\n",
    "We can also have limits of functions that normally would not exist at a given point. For example, we take $f(x) = \\frac{x^2-16}{x+4}$. We see that there is a discontinuity at $x=-4$ since the denominator is 0 (remember, dividing by zero is a big no-no). However, and I repeat, however, we see that the limit is in the form $\\frac{0}{0}$, so a limit can be computed, even though $f(x)$ is discontinuous at $x=-4$. We now go forth with computing the limit at $x=-4$, so we get,\n",
    "\n",
    "$$\\lim_{x\\to -4}f(x) = \\lim_{x\\to -4} \\frac{x^2-16}{x+4}$$\n",
    "\n",
    "We see that $x^2-16 = (x-4)(x+4)$, so we now have, \n",
    "\n",
    "$$\\lim_{x\\to -4} \\frac{(x-4)(x+4)}{x+4}$$\n",
    "\n",
    "We can see that the factor $(x+4)$ is on both the top and bottom, so we can cancel it out. We now have,\n",
    "\n",
    "$$\\lim_{x \\to -4} (x-4)$$\n",
    "\n",
    "We can now plug in $x=-4$ without anything blowing up in the distance. We find that the limit is $-8$ as $x$ approaches -4."
   ]
  },
  {
   "cell_type": "markdown",
   "metadata": {},
   "source": [
    "## Section 2: More Limit Solving!\n",
    "\n",
    "Let's do another example. \n",
    "\n",
    "$$\\lim_{x \\to 3} \\frac{\\frac{1}{x-1} - \\frac{1}{2}}{x-3}$$\n",
    "\n",
    "To address the elephant in the room, the top and bottom do both go to 0 when $x=3$, so a limit can be found. As for the other elephant in the room, well, hehe, uhhh, let's get right to it!\n",
    "\n",
    "The top part has two fractions with different denominators. The trick for this one is to find one common denominator on the top so that you can combine the terms together. We multiply the top and bottom of $\\frac{1}{x-1}$ by 2, and we multiply the top and bottom of $\\frac{1}{2}$ by $(x-1)$. We now get,\n",
    "\n",
    "$$\\lim_{x \\to 3} \\frac{\\frac{2}{2(x-1)} - \\frac{x-1}{2(x-1)}}{x-3}$$\n",
    "\n",
    "We can now combine the terms together. We now have,\n",
    "\n",
    "$$\\lim_{x \\to 3} \\frac{(\\frac{-x+3}{2(x-1)})}{x-3} = \\lim_{x \\to 3} \\frac{-(\\frac{x-3}{2(x-1)})}{x-3}$$\n",
    "\n",
    "We can now cancel the term $(x-3)$ from the top and bottom to get,\n",
    "\n",
    "$$\\lim_{x \\to 3} \\frac{-1}{2(x-1)}$$\n",
    "\n",
    "Plugging in $x=3$, we get that the limit as $x$ approaches 3, which is $-\\frac{1}{4}$."
   ]
  },
  {
   "cell_type": "markdown",
   "metadata": {},
   "source": [
    "## Section 3: Some Tricks\n",
    "\n",
    "Try solving this.\n",
    "\n",
    "$$\\lim_{x\\to 0} \\frac{\\sqrt{3x+4} - \\sqrt{x+4}}{x}$$\n",
    "\n",
    "Let me get this out of the way before we begin: this is painful. However, there is a trick to solving questions like this..."
   ]
  },
  {
   "cell_type": "markdown",
   "metadata": {},
   "source": [
    "### Aside: Conjugates\n",
    "\n",
    "Let's say we have a number like $\\frac{1}{\\sqrt5 - \\sqrt2}$. The denominator is clearly irrational and nightmarish. However, we can use the conjugate to make the denominator not messy. The conjugate of $\\sqrt5 - \\sqrt2$ is $\\sqrt5 + \\sqrt2$. Given this little bit of information, we can multiply the top and bottom by $\\sqrt5 + \\sqrt2$ to get,\n",
    "\n",
    "$$ \\frac{\\sqrt5 + \\sqrt2}{(\\sqrt5 - \\sqrt2)(\\sqrt5 + \\sqrt2)}$$\n",
    "\n",
    "We can FOIL the denominator (multiply first terms, outside terms, inside terms, last terms, and add them all up) to get,\n",
    "\n",
    "$$(\\sqrt5 - \\sqrt2)(\\sqrt5 + \\sqrt2) = (\\sqrt5)^2 + \\sqrt2 \\sqrt5 - \\sqrt2 \\sqrt5 - (\\sqrt2)^2 = 5 - 2 = 3$$\n",
    "\n",
    "Thus, the number simplifies to $\\frac{\\sqrt5 + \\sqrt2}{3}$."
   ]
  },
  {
   "cell_type": "markdown",
   "metadata": {},
   "source": [
    "### Back to Reality\n",
    "\n",
    "We can use this trick for this question. We can see that the conjugate of $\\sqrt{3x+4} - \\sqrt{x+4}$ is $\\sqrt{3x+4} + \\sqrt{x+4}$. We multiply the top and bottom by this to get,\n",
    "\n",
    "$$\\lim_{x\\to 0} \\frac{(\\sqrt{3x+4} - \\sqrt{x+4})(\\sqrt{3x+4} + \\sqrt{x+4})}{x(\\sqrt{3x+4} + \\sqrt{x+4})}$$\n",
    "\n",
    "We can multiply the equation out to get,\n",
    "\n",
    "$$\\lim_{x \\to 0} \\frac{(3x+4)-(x+4)}{x(\\sqrt{3x+4} + \\sqrt{x+4})} = \\lim_{x \\to 0} \\frac{2x}{x(\\sqrt{3x+4} + \\sqrt{x+4})}$$\n",
    "\n",
    "We then can cancel out $x$ on the top and bottom, and finally, we plug in $x=0$, like so.\n",
    "\n",
    "$$\\lim_{x \\to 0} \\frac{2x}{x(\\sqrt{3x+4} + \\sqrt{x+4})} = \\lim_{x \\to 0} \\frac{2}{(\\sqrt{3x+4} + \\sqrt{x+4})} = \\frac{2}{(\\sqrt{3(0)+4} + \\sqrt{0+4})} = \\frac{2}{4} = \\frac{1}{2}$$"
   ]
  }
 ],
 "metadata": {
  "kernelspec": {
   "display_name": "Python 3",
   "language": "python",
   "name": "python3"
  },
  "language_info": {
   "codemirror_mode": {
    "name": "ipython",
    "version": 3
   },
   "file_extension": ".py",
   "mimetype": "text/x-python",
   "name": "python",
   "nbconvert_exporter": "python",
   "pygments_lexer": "ipython3",
   "version": "3.8.3"
  }
 },
 "nbformat": 4,
 "nbformat_minor": 4
}
