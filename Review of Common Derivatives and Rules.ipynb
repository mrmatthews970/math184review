{
 "cells": [
  {
   "cell_type": "markdown",
   "metadata": {},
   "source": [
    "## Section 1: Some Common Derivatives\n",
    "\n",
    "Here are some common derivatives:\n",
    "\n",
    "- $\\frac{d}{dx}c = 0$\n",
    "- $\\frac{d}{dx}x = 1$\n",
    "- $\\frac{d}{dx}(x-a)^n = n(x-a)^{n-1}$\n",
    "- $\\frac{d}{dx}e^x = e^x$\n",
    "- $\\frac{d}{dx}(\\frac{1}{x-a}) = -\\frac{1}{(x-a)^2}$\n",
    "- $\\frac{d}{dx}\\sqrt {x-a} = \\frac{1}{2\\sqrt {x-a}}$\n",
    "- $\\frac{d}{dx}\\ln(|x-a|) = \\frac{1}{x-a}$\n",
    "- $\\frac{d}{dx}\\sin(x) = \\cos(x)$\n",
    "- $\\frac{d}{dx}\\cos(x) = -\\sin(x)$\n",
    "- $\\frac{d}{dx}a^x = a^x(\\ln a), a>0$"
   ]
  },
  {
   "cell_type": "markdown",
   "metadata": {},
   "source": [
    "## Section 2: Some Simple Rules of Differentiation\n",
    "\n",
    "Here are some simple rules of differentiation:\n",
    "\n",
    "- $\\frac{d}{dx}(c \\cdot f(x)) = c\\cdot \\frac{d}{dx}f(x), c \\neq 0$\n",
    "- $\\frac{d}{dx}(f(x) \\pm g(x)) = \\frac{d}{dx}f(x) \\pm \\frac{d}{dx} g(x)$\n",
    "\n",
    "Combining the two together, we get,\n",
    "\n",
    "- $\\frac{d}{dx}(a\\cdot f(x) \\pm b\\cdot g(x)) = a\\cdot \\frac{d}{dx}f(x) \\pm b\\cdot \\frac{d}{dx} g(x)$"
   ]
  },
  {
   "cell_type": "markdown",
   "metadata": {},
   "source": [
    "## Section 3: Examples of Derivatives\n",
    "\n",
    "Let's find the derivative of $f(x) = x^3 - 6x^2 + 11x - 6$. We see that $f'(x) = \\frac{d}{dx}(x^3 - 6x^2 + 11x - 6)$. We can separate the derivative into each single term and factor out any constants. We get,\n",
    "\n",
    "$f'(x) = \\frac{d}{dx}x^3 -6\\frac{d}{dx}x^2+11\\frac{d}{dx}x-\\frac{d}{dx}6$\n",
    "\n",
    "We can now apply the derivatives to each power of $x$ to get,\n",
    "\n",
    "$f'(x) = 3x^{3-1} -6(2x^{2-1})+11-0 = 3x^2 - 12x + 11$\n",
    "\n",
    "-----------\n",
    "\n",
    "Let's try another example, say $f(x) = \\ln(|x-4|) + 6(3^x) - 2x^5 - \\frac{8}{x-7}$.\n",
    "\n",
    "Once again, we can apply the derivative to each single term and factor out any constants. We get,\n",
    "\n",
    "$f'(x) = \\frac{d}{dx}\\ln(|x-4|) + 6\\frac{d}{dx}3^x - 2\\frac{d}{dx}x^5 - 8\\frac{d}{dx}\\frac{1}{x-7}$  \n",
    "\n",
    "Applying the derivatives to each term, we get that,\n",
    "\n",
    "$f'(x)=\\frac{1}{x-4} + 6(3^x(\\ln3)) - 10x^4 + \\frac{8}{(x-7)^2}$"
   ]
  },
  {
   "cell_type": "markdown",
   "metadata": {},
   "source": [
    "## Section 4: More Complex Rules\n",
    "\n",
    "In this section, I will introduce you to some more complex rules: those being product rule, quotient rule, and chain rule.\n",
    "\n",
    "First we will start with product rule. This is what it is: $\\frac{d}{dx}(f(x)\\cdot g(x)) = (f'(x)\\cdot g(x)) + (f(x)\\cdot g'(x))$.\n",
    "\n",
    "This is product rule when you apply it to three functions: $\\frac{d}{dx}(f(x)\\cdot g(x)\\cdot h(x)) = (f'(x)\\cdot g(x)\\cdot h(x)) + (f(x)\\cdot g'(x)\\cdot h(x)) + (f(x)\\cdot g(x)\\cdot h'(x))$.\n",
    "\n",
    "Now for four: $\\frac{d}{dx}(f(x)\\cdot g(x)\\cdot h(x)\\cdot j(x)) = (f'(x)\\cdot g(x)\\cdot h(x)\\cdot j(x)) + (f(x)\\cdot g'(x)\\cdot h(x)\\cdot j(x)) + (f(x)\\cdot g(x)\\cdot h'(x) \\cdot j(x)) + (f(x)\\cdot g(x)\\cdot h(x) \\cdot j'(x) )$.\n",
    "\n",
    "--------\n",
    "Next, we will do quotient rule. This is what it is: $\\frac{d}{dx}\\frac{f(x)}{g(x)} = \\frac{f'(x)\\cdot g(x) - f(x)\\cdot g'(x)}{(g(x))^2}$.\n",
    "\n",
    "-------\n",
    "Finally, we will do chain rule. This is what it is: $\\frac{d}{dx}f(g(x)) = f'(g(x))\\cdot g'(x)$.\n",
    "\n",
    "This is chain rule when you apply it to three functions: $\\frac{d}{dx}f(g(h(x))) = f'(g(h(x)))\\cdot g'(h(x))\\cdot h'(x)$.\n",
    "\n",
    "Now for four: $\\frac{d}{dx}f(g(h(j(x)))) = f'(g(h(j(x))))\\cdot g'(h(j(x)))\\cdot h'(j(x))\\cdot j'(x)$."
   ]
  },
  {
   "cell_type": "markdown",
   "metadata": {},
   "source": [
    "## Section 5: Some Tips and Tricks for the Complex Rules\n",
    "\n",
    "When you are doing some of these calculations, try and replace some expressions with $f(x), g(x), h(x)$, etc. This will prove helpful in solving derivatives so you can avoid any messiness or complication."
   ]
  },
  {
   "cell_type": "markdown",
   "metadata": {},
   "source": [
    "## Section 6: Some Examples of the Complex Rules\n",
    "\n",
    "Let's try finding the derivative of $y = e^x(x-5)^2(x+2)^{-3}$. We call $f(x)=e^x$, $g(x)=(x-5)^2$, and $h(x) = (x+2)^{-3}$, and we see that $y = f(x)g(x)h(x)$. We see that $f'(x)=e^x$, $g'(x)=2(x-5)$, and $h'(x)=-3(x+2)^{-4}$.\n",
    "\n",
    "We can see that product rule must be applied, so we get that,\n",
    "\n",
    "$y' = e^x(x-5)^2(x+2)^{-3} + e^x(2(x-5))(x+2)^{-3} + e^x(x-5)^2(-3(x+2)^{-4})$\n",
    "\n",
    "----\n",
    "\n",
    "Here is another derivative to find: $y = \\frac{x - 16}{x^4 - 16}$. We call $f(x)=x-16$, and $g(x)=x^4-16$. We see that $f'(x)=1$, and $g'(x)=4x^3$.\n",
    "\n",
    "We can see that quotient rule must be applied, so we get that,\n",
    "\n",
    "$y' = \\frac{(x^4-16)-(4x^3)(x-16)}{(x^4-16)^2} = \\frac{-3x^4+64x^3-16}{(x^4-16)^2}$\n",
    "\n",
    "----\n",
    "\n",
    "And another one: $y = \\cos^4(x^2 - 12x + 27)$. For this example, we will need to use chain rule. When assigning functions, you have to work outside in. We let $f(x)=x^4$, $g(x)=\\cos(x)$, and $h(x)=x^2 - 12x + 27$. We see that $f'(x)=4x^3$, $g'(x)=-\\sin(x)$, and $h'(x) = 2x-12$. We see that $y = f(g(h(x)))$. \n",
    "\n",
    "We can see that the chain rule must be applied, so we get that,\n",
    "\n",
    "$y' = 4\\cos^3(x^2-12x+27)\\cdot (-\\sin(x^2-12x+27))\\cdot (2x-12)$\n",
    "\n",
    "----\n",
    "\n",
    "There will be some questions where all three complex rules will be needed for one question, so make sure to read the questions carefully."
   ]
  },
  {
   "cell_type": "code",
   "execution_count": null,
   "metadata": {},
   "outputs": [],
   "source": []
  }
 ],
 "metadata": {
  "kernelspec": {
   "display_name": "Python 3",
   "language": "python",
   "name": "python3"
  },
  "language_info": {
   "codemirror_mode": {
    "name": "ipython",
    "version": 3
   },
   "file_extension": ".py",
   "mimetype": "text/x-python",
   "name": "python",
   "nbconvert_exporter": "python",
   "pygments_lexer": "ipython3",
   "version": "3.8.3"
  }
 },
 "nbformat": 4,
 "nbformat_minor": 4
}
