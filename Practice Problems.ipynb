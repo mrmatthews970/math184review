{
 "cells": [
  {
   "cell_type": "markdown",
   "metadata": {},
   "source": [
    "1. Find the inverses of these functions. \n",
    "\n",
    "a. $f(x) = (4x - 3)^9 + 1 $\n",
    "\n",
    "b. $f(x) = (x^2 - 1)^3, x\\geq 1$\n",
    "\n",
    "c. $f(x) = e^{\\sqrt{2x + 3} - 1}$\n",
    "\n",
    "d. $f(x) = \\sqrt{4 - x^2}, -2\\leq x\\leq1$\n",
    "\n",
    "e. $f(x) = \\frac{3x + 7}{8x - 9}$\n",
    "\n",
    "f. $f(x) = (\\log_6(x^3 - 7))^2$"
   ]
  },
  {
   "cell_type": "markdown",
   "metadata": {},
   "source": [
    "2. Find these limits.\n",
    "\n",
    "a. $\\lim_{x \\to 1} \\frac{x^5-1}{x^2-1}$\n",
    "\n",
    "b. $\\lim_{x \\to 4} \\frac{\\sqrt{x^2+9} - \\sqrt{5(x+1)}}{x^2 - 6x + 8}$\n",
    "\n",
    "c. $\\lim_{x \\to 9} \\frac{\\sqrt{x^3} - 6x + 11\\sqrt{x} - 6}{x^2-81}$"
   ]
  },
  {
   "cell_type": "markdown",
   "metadata": {},
   "source": [
    "3. Is $f(x)$ continuous at $x=1,8,10$? If not, why is it not continuous, what are the left and right limits, and is the function left or right continuous? \n",
    "\n",
    "$$\n",
    "\\[ \\begin{cases} \n",
    "      x^3 & x< 1 \\\\\n",
    "      \\sqrt[3]{x} & 1\\leq x\\leq 8 \\\\\n",
    "      2x-15 & 8< x \\leq 10 \\\\\n",
    "      17-x & x>10\n",
    "   \\end{cases}\n",
    "\\]\n",
    "$$"
   ]
  },
  {
   "cell_type": "markdown",
   "metadata": {},
   "source": [
    "4. Give the intervals of continuity for these functions.\n",
    "\n",
    "a. $f(x) = \\frac{x^4 + 4x^2 - 1}{x^3 - x^2 - 6x}$\n",
    "\n",
    "b. $f(x) = \\frac{\\sin(x)}{(4x^2 - 1)(x^2 - 4)}$\n",
    "\n",
    "c. $f(x) = \\frac{x^5 - x}{x(x^2 - 25)(2^x - 8)(x^4 + 1)}$\n",
    "\n",
    "d. $f(x) = \\frac{1}{\\sin(x)\\cos(x)}$"
   ]
  },
  {
   "cell_type": "markdown",
   "metadata": {},
   "source": [
    "5. Solve these questions.\n",
    "\n",
    "a. Let $f(x) = 32\\log_4(x) - x^2$. Show that there are two solutions on its domain of existence.\n",
    "\n",
    "b. Show that there exists a solution to $e^x + e^{2x} = e^{3x}$.\n",
    "\n",
    "c. Give an interval of length 1 such that it contains the point at which the two functions $f(x) = x^4 + 2x^3 + 3x^2 + 4x + 5$ and $g(x) = 4^{-x}$ intersect.\n",
    "\n",
    "d. Why is there no point of intersection to the equations $f(x) = \\frac{1}{1+x^2}$ and $g(x) = \\frac{1}{x}$? (hint: $x<1+x^2$ for all real numbers)"
   ]
  },
  {
   "cell_type": "markdown",
   "metadata": {},
   "source": [
    "6. Use the definition of the derivative to find the derivatives of these functions. Also, find the slope at the given x-coordinates.\n",
    "\n",
    "a. $f(x) = x^4 + 8x^3 + 24x^2 + 32x + 16, x=0$\n",
    "\n",
    "b. $f(x) = \\frac{1}{2x + 3}, x=1$\n",
    "\n",
    "c. $f(x) = \\frac{x}{x^2 + 1}, x=1$\n",
    "\n",
    "d. $f(x) = \\sqrt{25-x^2}, x=3$"
   ]
  },
  {
   "cell_type": "markdown",
   "metadata": {},
   "source": [
    "7. Give values for $a$ and $b$ such that these piecewise functions are continuous and differentiable.\n",
    "\n",
    "a. $$\n",
    "\\[ \\begin{cases} \n",
    "      x^2 & x< 2 \\\\\n",
    "      ax+b & x\\geq 2 \n",
    "   \\end{cases}\n",
    "\\]\n",
    "$$\n",
    "\n",
    "b. $$\n",
    "\\[ \\begin{cases} \n",
    "      \\frac{4}{x} & x< 4 \\\\\n",
    "      ax^2+bx + 4 & x\\geq 4 \n",
    "   \\end{cases}\n",
    "\\]\n",
    "$$\n",
    "\n",
    "c. $$\n",
    "\\[ \\begin{cases} \n",
    "      ax-x^3 & x< 1 \\\\\n",
    "      bx^2+3x & x\\geq 1 \n",
    "   \\end{cases}\n",
    "\\]\n",
    "$$"
   ]
  },
  {
   "cell_type": "markdown",
   "metadata": {},
   "source": [
    "8. Use the trig identities to find the first and second derivatives of $\\tan(x)$, $\\csc(x)$, $\\sec(x)$, and $\\cot(x)$. Find their tangent lines at $x = \\frac{\\pi}{3}$."
   ]
  },
  {
   "cell_type": "markdown",
   "metadata": {},
   "source": [
    "9. We have the hyperbolic sine ($\\sinh(x) = \\frac{e^x - e^{-x}}{2}$) and the hyperbolic cosine ($\\cosh(x) = \\frac{e^x + e^{-x}}{2}$) functions. From here, we can get the hyperbolic tangent ($\\tanh(x) = \\frac{\\sinh(x)}{\\cosh(x)}$), the hyperbolic cosecant ($\\csch(x) = \\frac{1}{\\sinh(x)}$), the hyperbolic secant ($\\sech(x) = \\frac{1}{\\cosh(x)}$), and the hyperbolic cotangent ($\\coth(x) = \\frac{1}{\\tanh(x)}$). \n",
    "\n",
    "Find the first and second derivatives of all of the hyperbolic trig functions, and find their tangent lines at $x = \\ln(2)$."
   ]
  },
  {
   "cell_type": "markdown",
   "metadata": {},
   "source": [
    "10. Solve these questions. \n",
    "\n",
    "a. Show that $y = \\sin(4x) + \\cos(4x)$ is a solution to the differential equation $y'' + 16y = 0$.\n",
    "\n",
    "b. Show that $y = e^{-2x}(4\\sin(x) - 3\\cos(x))$ is a solution to the differential equation $y'' + 4y' + 5 = 0$.\n",
    "\n",
    "c. Show that $y = x(\\cos(2\\ln(x)) - \\sin(2\\ln(x))), x>0$ is a solution to the differential equation $x^2y'' - xy' + 5y$.\n",
    "\n",
    "d. Show that $y = \\frac{\\cos(3\\ln(4x)) - \\sin(3\\ln(5x))}{(3x)^2}, x>0$ is a solution to the differential equation $x^2y'' + 5xy' + 13y$."
   ]
  },
  {
   "cell_type": "markdown",
   "metadata": {},
   "source": [
    "11. Solve these questions.\n",
    "\n",
    "a. If $f(1) = 1$, then find $f'(1)$ given $ (f(x))^2= \\ln(x)+f(x)f(x^2)$.\n",
    "\n",
    "b. If $f(1) = f'(2) = 4$, $f(2) = 1$, and $f'(1)=-1$, find $g'(1)$ if $g(x) = \\frac{f(\\sqrt{x}) + \\ln(x)f(2x)}{x^2 + 1}$.\n",
    "\n",
    "c. If $f(1) = 2$, $g(1) = f′(1) = −3$, $f′(−3) = 2$, $f(−3) = f''(1)= 0$, $f''(-3)=4$ and $g′(1) = g''(1) = −2$, find $h′(1)$ and $h''(1)$ if $h(x) = f(x)f(g(x))$."
   ]
  },
  {
   "cell_type": "markdown",
   "metadata": {},
   "source": [
    "12. Solve these questions.\n",
    "\n",
    "a. The limit $\\lim_{h \\to 0}\\frac{(-1 + h)^6 - (-1 + h)^3 + (-1 + h)^4 - 3}{h}$ represents $f'(a)$ for some function $f$ and real number $a$. Find the function and number, and solve the limit $f'(a)$.\n",
    "\n",
    "b. Evaluate $\\lim_{x\\to 0}\\frac{e^{4x} + e^{3x} + e^{2x} + e^x - 4}{x}$.\n",
    "\n",
    "c. Evaluate $\\lim_{x \\to \\frac{\\pi}{6}}\\frac{\\sin(2x) - \\cos(x)}{x - \\frac{\\pi}{6}}$.\n",
    "\n",
    "d. Evaluate $\\lim_{x \\to 2} (\\frac{x^3 - 8}{f(2)-f(x)} + \\frac{f(x)-f(2)}{x^2 + x - 6})$. Assume $f'(2)=5$.\n",
    "\n",
    "e. Evaluate $\\lim_{x \\to 6} \\frac{(x^2 - 36)(x^2 - 7x + 6)(x^2 - 5x - 6)}{(x^2 - 5x + 6)(f(6) - f(x))^3}$. Assume $f'(6) = -2$."
   ]
  },
  {
   "cell_type": "markdown",
   "metadata": {},
   "source": [
    "13. A company is coming up with a new game. Their sales estimation states that if they price the game at \\\\$60, then they will sell 800 thousand copies in the first week, and if they price the game at \\\\$65, then they will sell 700 thousand copies. However, the game cost \\\\$7.5 million to make, and the limited edition merch that comes with the game adds \\\\$20 to the cost on the company's side.\n",
    "\n",
    "a. Give the price function $p(q)$ and the revenue function $R(q)$. (note that demand will be in thousands)\n",
    "\n",
    "b. Give the cost function $C(q)$.\n",
    "\n",
    "c. Give the profit function $P(q)$.\n",
    "\n",
    "d. What are the break-even points?\n",
    "\n",
    "e. How many copies does the company need to sell to make the most profit?\n",
    "\n",
    "f. Assume they sell the game at \\\\$50. When the price decreases somewhat, what happens to the profit?\n",
    "\n",
    "g. Assume they sell the game at \\\\$90. When the price increases somewhat, what happens to the profit?\n",
    "\n",
    "h. Assume they sell the game at \\\\$70. Would it be a better idea to raise the price or reduce it?"
   ]
  },
  {
   "cell_type": "markdown",
   "metadata": {},
   "source": [
    "14. We are given two arbitrary functions: $f(x)$ and $g(x)$.\n",
    "\n",
    "a. Find $\\frac{d^2}{dx^2}\\frac{f(x)}{g(x)}$.\n",
    "\n",
    "b. Find $\\frac{d^3}{dx^3}f(x)g(x)$.\n",
    "\n",
    "c. Find $\\frac{d^2}{dx^2}f(g(x))$."
   ]
  },
  {
   "cell_type": "markdown",
   "metadata": {},
   "source": [
    "15. Solve these questions.\n",
    "\n",
    "a. Show that there are two parallel tangent lines along the function $f(x) = (x-a)(x-a-b)(x-a+b), b \\neq 0$ at the intercepts $x=a+b$ and $x=a-b$. Find the tangent lines.\n",
    "\n",
    "b. Find the tangent line at $x=a$. Then, find the value $b$ such that the slope of the tangent line at $x=a$ is perpendicular to the slope of the tangent line at $x=a+b$ and $x=a-b$."
   ]
  },
  {
   "cell_type": "code",
   "execution_count": null,
   "metadata": {},
   "outputs": [],
   "source": []
  }
 ],
 "metadata": {
  "kernelspec": {
   "display_name": "Python 3",
   "language": "python",
   "name": "python3"
  },
  "language_info": {
   "codemirror_mode": {
    "name": "ipython",
    "version": 3
   },
   "file_extension": ".py",
   "mimetype": "text/x-python",
   "name": "python",
   "nbconvert_exporter": "python",
   "pygments_lexer": "ipython3",
   "version": "3.8.3"
  }
 },
 "nbformat": 4,
 "nbformat_minor": 4
}
