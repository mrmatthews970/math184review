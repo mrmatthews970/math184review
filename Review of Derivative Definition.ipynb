{
 "cells": [
  {
   "cell_type": "markdown",
   "metadata": {},
   "source": [
    "## Section 1: What is a Derivative?\n",
    "\n",
    "The derivative of a function is its slope at a certain point. For a function $f(x)$, its derivative is,\n",
    "\n",
    "$$f'(x) = \\lim_{h \\to 0}\\frac{f(x+h)-f(x)}{h}$$\n",
    "\n",
    "This is similar to what we had seen with the secant lines, except the points are getting EXTREMELY close (hence $h$ approaching 0).\n",
    "\n",
    "If we want to find the slope of a function $f(x)$ at a point $a$, we can do this.\n",
    "\n",
    "$$f'(a) = \\lim_{h \\to 0}\\frac{f(a+h)-f(a)}{h}$$\n",
    "\n",
    "I will colloquially call $f'(x)$ the \"slope\" of $f(x)$ (you may know by know that I have a thing for colloquialisms and words that nobody cares about).\n",
    "\n",
    "You will need to deeply understand your limit solving techniques for this, because it's about to get bumpy..."
   ]
  },
  {
   "cell_type": "markdown",
   "metadata": {},
   "source": [
    "## Section 2: Fasten Your Seatbelts...\n",
    "\n",
    "Let's try and find the derivative of $f(x) = x^2+11x+30$. We will plug this into our definition. We can see that,\n",
    "\n",
    "$$f(x+h) = (x+h)^2 + 11(x+h) + 30 = x^2 + 2xh + h^2 + 11x + 11h + 30$$\n",
    "\n",
    "Now we plug this into our definition. We get that,\n",
    "\n",
    "$$f'(x) = \\lim_{h \\to 0}\\frac{f(x+h)-f(x)}{h} = \\lim_{h \\to 0}\\frac{(x^2+2xh+h^2+11x+11h+30)-(x^2+11x+30)}{h}=\\lim_{h \\to 0}\\frac{x^2+2xh+h^2+11x+11h+30-x^2-11x-30}{h}$$\n",
    "\n",
    "We can now cancel some terms out to get,\n",
    "\n",
    "$$f'(x) = \\lim_{h \\to 0}\\frac{2xh + h^2 + 11h}{h}$$\n",
    "\n",
    "Notice how the top and bottom equal 0 when $h=0$. This is a good sign! We can now proceed to finding the limit! We can factor $h$ from the top and bottom to get,\n",
    "\n",
    "$$f'(x) = \\lim_{h \\to 0}\\frac{h(2x + h + 11)}{h} = \\lim_{h \\to 0}(2x+h+11)$$\n",
    "\n",
    "Alas, $f'(x) = 2x+11$.\n",
    "\n",
    "We can find the slope of $f(x)$ at different points. For example, we can see that at $x=0$, the slope of $f(x)$ is 11 (that is, $f'(x) = 11$)."
   ]
  },
  {
   "cell_type": "markdown",
   "metadata": {},
   "source": [
    "## Section 3: Have You Been Keeping Up?\n",
    "\n",
    "Let's try to find the slope of $f(x) = \\sqrt{3x+4}$. We can see that $f(x+h) = \\sqrt{3(x+h)+4} = \\sqrt{3x+3h+4}$. We now put this in our definition of the derivative to get,\n",
    "\n",
    "$$f'(x) = \\lim_{h \\to 0}\\frac{\\sqrt{3x+3h+4} - \\sqrt{3x+4}}{h}$$\n",
    "\n",
    "At this point, you may recognize something (no, you did not leave the stove on, so don't worry). You will need to use a conjugate to solve this limit (but seriously, be careful with stoves. This goes double for my prospective chemistry majors!)\n",
    "\n",
    "Using the conjugate will be extremely helpful since it frees up some embedded terms (those being in the square roots). The conjugate of $\\sqrt{3x+3h+4} - \\sqrt{3x+4}$ is $\\sqrt{3x+3h+4} + \\sqrt{3x+4}$. We can multiply the top and bottom by this to get, \n",
    "\n",
    "\n",
    "$$f'(x) = \\lim_{h \\to 0}\\frac{(\\sqrt{3x+3h+4} - \\sqrt{3x+4})(\\sqrt{3x+3h+4} + \\sqrt{3x+4})}{h(\\sqrt{3x+3h+4} + \\sqrt{3x+4})}=\\lim_{h \\to 0}\\frac{3x+3h+4-(3x+4)}{h(\\sqrt{3x+3h+4} + \\sqrt{3x+4})}=\\lim_{h \\to 0}\\frac{3h}{h(\\sqrt{3x+3h+4} + \\sqrt{3x+4})}$$\n",
    "\n",
    "We can now cancel out $h$ on the top and bottom to get,\n",
    "\n",
    "$$f'(x) = \\lim_{h \\to 0}\\frac{3}{\\sqrt{3x+3h+4} + \\sqrt{3x+4}}$$\n",
    "\n",
    "Plugging in $h=0$, we get that,\n",
    "\n",
    "$$f'(x) = \\frac{3}{\\sqrt{3x+4} + \\sqrt{3x+4}} = \\frac{3}{2\\sqrt{3x+4}}$$\n",
    "\n",
    "We can see that the slope of $f(x)$ at $x=-1$ is $f'(x) = \\frac{3}{2}$. However, the slope does not exist at $x=-\\frac{4}{3}$ since the denominator equals 0 (we already went over this, this is a big fat no-no)."
   ]
  },
  {
   "cell_type": "markdown",
   "metadata": {},
   "source": [
    "## Section 4: Failure of the Definition of the Derivative\n",
    "\n",
    "As per our last example, it was found that the derivative of $f(x) = \\sqrt{3x+4}$ did not exist at $x = -\\frac{4}{3}$. Here are some more examples of the definition failing.\n",
    "\n",
    "Let's take $f(x) = |x|$. We can decompose $f(x)$ into three piecewise parts to get,\n",
    "\n",
    "$$f(x) =  \\begin{cases} \n",
    "      -x & x< 0 \\\\\n",
    "      0 & x = 0 \\\\\n",
    "      x &  x >0\n",
    "   \\end{cases}\n",
    "$$\n",
    "\n",
    "Assuming $x>0$, we see that $f(x)=x$, $f(x+h) = x+h$, and, \n",
    "\n",
    "$$f'(x) = \\lim_{h \\to 0}\\frac{x+h-x}{h}=1$$\n",
    "\n",
    "Now, assuming $x<0$, we see that $f(x)=-x$, $f(x+h) = -x-h$, and.\n",
    "\n",
    "$$f'(x) = \\lim_{h \\to 0}\\frac{-x-h+x}{h}=-1$$\n",
    "\n",
    "Finally, we assume $x=0$. We just say that $f(x)=|x|$ (since $f(0)=0$), and $f(x+h)=|x+h|$. We get that,\n",
    "\n",
    "$$f'(x) = \\lim_{h \\to 0}\\frac{|x+h|-|x|}{h}$$\n",
    "\n",
    "More specifically,\n",
    "\n",
    "$$f'(0) = \\lim_{h \\to 0}\\frac{|0+h|-|0|}{h}=\\lim_{h\\to0}\\frac{|h|}{h}$$\n",
    "\n",
    "We can use left/right side limits to see if a limit indeed exists at $x=0$. We see that for the right side limit, $\\lim_{h \\to 0^+}\\frac{|h|}{h} = 1$, and for the left side limit, $\\lim_{h \\to 0^-}\\frac{|h|}{h} = -1$. Since the left and right side limit have different values, this violates the condition for the existence of the limit, so we say that the derivative at $x=0$ for $f(x)$ does not exist.\n",
    "\n",
    "In short, the derivative does not exist for a function at a certain when either the limit does not exist, or there is a discontinuity found once the derivative is computed."
   ]
  },
  {
   "cell_type": "code",
   "execution_count": null,
   "metadata": {},
   "outputs": [],
   "source": []
  }
 ],
 "metadata": {
  "kernelspec": {
   "display_name": "Python 3",
   "language": "python",
   "name": "python3"
  },
  "language_info": {
   "codemirror_mode": {
    "name": "ipython",
    "version": 3
   },
   "file_extension": ".py",
   "mimetype": "text/x-python",
   "name": "python",
   "nbconvert_exporter": "python",
   "pygments_lexer": "ipython3",
   "version": "3.8.3"
  }
 },
 "nbformat": 4,
 "nbformat_minor": 4
}
